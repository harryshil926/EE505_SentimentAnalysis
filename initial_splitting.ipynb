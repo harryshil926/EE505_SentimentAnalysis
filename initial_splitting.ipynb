{
  "nbformat": 4,
  "nbformat_minor": 0,
  "metadata": {
    "colab": {
      "name": "initial_splitting.ipynb",
      "provenance": [],
      "authorship_tag": "ABX9TyN5HYco5Hl6Sp+ITX7iBfMH",
      "include_colab_link": true
    },
    "kernelspec": {
      "name": "python3",
      "display_name": "Python 3"
    },
    "language_info": {
      "name": "python"
    }
  },
  "cells": [
    {
      "cell_type": "markdown",
      "metadata": {
        "id": "view-in-github",
        "colab_type": "text"
      },
      "source": [
        "<a href=\"https://colab.research.google.com/github/harryshil926/EE505_SentimentAnalysis/blob/main/initial_splitting.ipynb\" target=\"_parent\"><img src=\"https://colab.research.google.com/assets/colab-badge.svg\" alt=\"Open In Colab\"/></a>"
      ]
    },
    {
      "cell_type": "code",
      "metadata": {
        "id": "TrMcFDz_sXYD"
      },
      "source": [
        "from google.colab import drive\n",
        "from google.colab.patches import cv2_imshow\n",
        "import pandas as pd\n",
        "from sklearn.model_selection import train_test_split"
      ],
      "execution_count": 1,
      "outputs": []
    },
    {
      "cell_type": "code",
      "metadata": {
        "colab": {
          "base_uri": "https://localhost:8080/"
        },
        "id": "l6TgbzTVsZmR",
        "outputId": "96887aca-ab2d-48cf-8d66-bec098d16adc"
      },
      "source": [
        "drive.mount('/content/gdrive')"
      ],
      "execution_count": 2,
      "outputs": [
        {
          "output_type": "stream",
          "name": "stdout",
          "text": [
            "Mounted at /content/gdrive\n"
          ]
        }
      ]
    },
    {
      "cell_type": "code",
      "metadata": {
        "id": "Wg6OuswesbGz"
      },
      "source": [
        "df = pd.read_csv('/content/gdrive/MyDrive/EE_505/Dataset/twitter_sentiments_data.csv')"
      ],
      "execution_count": 3,
      "outputs": []
    },
    {
      "cell_type": "code",
      "metadata": {
        "id": "X2Q0Hz9rsjTz"
      },
      "source": [
        "random_state = 1\n",
        "Y = df['target']\n",
        "X = df['tweet']"
      ],
      "execution_count": 4,
      "outputs": []
    },
    {
      "cell_type": "code",
      "metadata": {
        "id": "SJKM1B1csk75"
      },
      "source": [
        "# Separate out the test-set as hold-out (80:20)\n",
        "X_train, X_test, y_train, y_test = train_test_split(X, Y,stratify=Y, test_size=0.20,random_state=random_state)"
      ],
      "execution_count": 5,
      "outputs": []
    },
    {
      "cell_type": "code",
      "metadata": {
        "id": "vN9Bc9Rtsmh1"
      },
      "source": [
        "X_train.to_csv('/content/gdrive/MyDrive/EE_505/Dataset/X_train.csv')\n",
        "X_test.to_csv('/content/gdrive/MyDrive/EE_505/Dataset/X_test.csv')\n",
        "y_train.to_csv('/content/gdrive/MyDrive/EE_505/Dataset/y_train.csv')\n",
        "y_test.to_csv('/content/gdrive/MyDrive/EE_505/Dataset/y_test.csv')"
      ],
      "execution_count": 6,
      "outputs": []
    },
    {
      "cell_type": "code",
      "metadata": {
        "id": "vxcyKLg5soBV"
      },
      "source": [
        ""
      ],
      "execution_count": null,
      "outputs": []
    }
  ]
}