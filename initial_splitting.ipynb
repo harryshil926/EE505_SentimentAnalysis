{
  "nbformat": 4,
  "nbformat_minor": 0,
  "metadata": {
    "colab": {
      "name": "initial_splitting.ipynb",
      "provenance": [],
      "include_colab_link": true
    },
    "kernelspec": {
      "name": "python3",
      "display_name": "Python 3"
    },
    "language_info": {
      "name": "python"
    }
  },
  "cells": [
    {
      "cell_type": "markdown",
      "metadata": {
        "id": "view-in-github",
        "colab_type": "text"
      },
      "source": [
        "<a href=\"https://colab.research.google.com/github/harryshil926/EE505_SentimentAnalysis/blob/main/initial_splitting.ipynb\" target=\"_parent\"><img src=\"https://colab.research.google.com/assets/colab-badge.svg\" alt=\"Open In Colab\"/></a>"
      ]
    },
    {
      "cell_type": "code",
      "metadata": {
        "id": "TrMcFDz_sXYD"
      },
      "source": [
        "from google.colab import drive\n",
        "from google.colab.patches import cv2_imshow\n",
        "import pandas as pd\n",
        "from sklearn.model_selection import train_test_split"
      ],
      "execution_count": 2,
      "outputs": []
    },
    {
      "cell_type": "code",
      "metadata": {
        "colab": {
          "base_uri": "https://localhost:8080/"
        },
        "id": "l6TgbzTVsZmR",
        "outputId": "cd58c6cf-06fd-44e7-cdd5-9af6d6a86027"
      },
      "source": [
        "drive.mount('/content/gdrive')"
      ],
      "execution_count": 3,
      "outputs": [
        {
          "output_type": "stream",
          "name": "stdout",
          "text": [
            "Mounted at /content/gdrive\n"
          ]
        }
      ]
    },
    {
      "cell_type": "code",
      "metadata": {
        "id": "Wg6OuswesbGz"
      },
      "source": [
        "df = pd.read_csv('/content/gdrive/MyDrive/EE_505/Dataset/twitter_sentiments_data.csv')"
      ],
      "execution_count": 4,
      "outputs": []
    },
    {
      "cell_type": "code",
      "source": [
        "df.set_index('tweet_index',inplace=True)"
      ],
      "metadata": {
        "id": "unAAfMFXkC4o"
      },
      "execution_count": 8,
      "outputs": []
    },
    {
      "cell_type": "code",
      "metadata": {
        "id": "X2Q0Hz9rsjTz"
      },
      "source": [
        "random_state = 1\n",
        "Y = df['target']\n",
        "X = df['tweet']"
      ],
      "execution_count": 9,
      "outputs": []
    },
    {
      "cell_type": "code",
      "metadata": {
        "id": "SJKM1B1csk75"
      },
      "source": [
        "# Separate out the test-set as hold-out (80:20)\n",
        "X_train, X_test, y_train, y_test = train_test_split(X, Y,stratify=Y, test_size=0.20,random_state=random_state)"
      ],
      "execution_count": 10,
      "outputs": []
    },
    {
      "cell_type": "code",
      "metadata": {
        "id": "vN9Bc9Rtsmh1"
      },
      "source": [
        "X_train.to_csv('/content/gdrive/MyDrive/EE_505/Dataset/X_train.csv',index=True)\n",
        "X_test.to_csv('/content/gdrive/MyDrive/EE_505/Dataset/X_test.csv',index=True)\n",
        "y_train.to_csv('/content/gdrive/MyDrive/EE_505/Dataset/y_train.csv',index=True)\n",
        "y_test.to_csv('/content/gdrive/MyDrive/EE_505/Dataset/y_test.csv',index=True)"
      ],
      "execution_count": 13,
      "outputs": []
    },
    {
      "cell_type": "code",
      "metadata": {
        "id": "vxcyKLg5soBV",
        "outputId": "75dae808-1c33-4112-ae86-97e24495cf18",
        "colab": {
          "base_uri": "https://localhost:8080/"
        }
      },
      "source": [
        ""
      ],
      "execution_count": 12,
      "outputs": [
        {
          "output_type": "execute_result",
          "data": {
            "text/plain": [
              "tweet_index\n",
              "2191045532                         HOPE ENGLISH IS BETTER!!!!! \n",
              "2007799238    back at home. its so dang nice out. hanging wi...\n",
              "2050755502    i'm off guys. talk to you another day... or la...\n",
              "1822611554                               @sheywantsPDA I`M SAD \n",
              "2048346628                          @cedmeijer amazing concert \n",
              "                                    ...                        \n",
              "1678267086    @jeffmello You are too funny. I really like yo...\n",
              "2325332986    @DIY_Musicians HTTPS is for secured pages. Not...\n",
              "1823599541    @JAMIASGADGET you never talk to me when im the...\n",
              "2052669256    @shultquist I will try to remember that in 6 d...\n",
              "2060157251    ahhh today was nice  went shpping, hung out wi...\n",
              "Name: tweet, Length: 1048084, dtype: object"
            ]
          },
          "metadata": {},
          "execution_count": 12
        }
      ]
    }
  ]
}