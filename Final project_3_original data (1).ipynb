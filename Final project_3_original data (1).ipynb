{
 "cells": [
  {
   "cell_type": "markdown",
   "metadata": {
    "id": "o5tjTGRif4Kk"
   },
   "source": [
    "## Spam Filtering\n",
    "In this programming assignment, we will `revisit' Spam Filtering case study with a real data set that has a \"label\" for every email - i.e. spam or not spam. We will try Logistic Regression, Decision Tree and Random Forests. The assignment goes from data loading to data inspection to data pre-processing to creating a train/test data set to finally doing machine learning, making predictions and evaluating it. This is typically one part of the \"full pipeline\" in ML modeling/prototyping - So you will get a sampler taste of some \"prototype pipeline\" work that happens in practice! Have fun!! And if you get stuck somewhere - Use discord - Maybe someone has a suggestion that will unblock you."
   ]
  },
  {
   "cell_type": "markdown",
   "metadata": {
    "id": "GJxX4po_f4Km"
   },
   "source": [
    "## Loading the data set"
   ]
  },
  {
   "cell_type": "code",
   "execution_count": 9,
   "metadata": {
    "id": "BGWIqvDef4Km"
   },
   "outputs": [
    {
     "name": "stderr",
     "output_type": "stream",
     "text": [
      "C:\\Users\\Winston\\Anaconda3\\lib\\site-packages\\IPython\\core\\interactiveshell.py:3444: FutureWarning: The error_bad_lines argument has been deprecated and will be removed in a future version.\n",
      "\n",
      "\n",
      "  exec(code_obj, self.user_global_ns, self.user_ns)\n"
     ]
    }
   ],
   "source": [
    "import pandas as pd\n",
    "\n",
    "\n",
    "X2_train = pd.read_csv('X1_train.csv',sep=',',header=None,engine='python',error_bad_lines=False)\n",
    "y2_train = pd.read_csv('y1_train.csv',sep=',',header=None,engine='python',error_bad_lines=False)\n",
    "X2_test = pd.read_csv('X1_test.csv',sep=',',header=None,engine='python',error_bad_lines=False)\n",
    "y2_test = pd.read_csv('y1_test.csv',sep=',',header=None,engine='python',error_bad_lines=False)\n",
    "X2_val = pd.read_csv('X1_val.csv',sep=',',header=None,engine='python',error_bad_lines=False)\n",
    "y2_val = pd.read_csv('y1_val.csv',sep=',',header=None,engine='python',error_bad_lines=False)"
   ]
  },
  {
   "cell_type": "markdown",
   "metadata": {
    "id": "fiX-ojcMf4Kn"
   },
   "source": [
    "## 1. Data Pre-Processing Step\n",
    "Follow data processing steps as in previous HW (HW 5 Part 2) - Feel free to add any processing steps that might help with the new models you will try out in this HW - LR and Random Forest.\n",
    "Also create the train/val/test splits as before (HW 5 part 2) for the emails data set.\n"
   ]
  },
  {
   "cell_type": "code",
   "execution_count": 10,
   "metadata": {
    "id": "iALhKGDnf4Ko",
    "outputId": "1c74443f-9ed5-4cdc-c901-bb5b7997c3bd"
   },
   "outputs": [
    {
     "data": {
      "text/html": [
       "<div>\n",
       "<style scoped>\n",
       "    .dataframe tbody tr th:only-of-type {\n",
       "        vertical-align: middle;\n",
       "    }\n",
       "\n",
       "    .dataframe tbody tr th {\n",
       "        vertical-align: top;\n",
       "    }\n",
       "\n",
       "    .dataframe thead th {\n",
       "        text-align: right;\n",
       "    }\n",
       "</style>\n",
       "<table border=\"1\" class=\"dataframe\">\n",
       "  <thead>\n",
       "    <tr style=\"text-align: right;\">\n",
       "      <th></th>\n",
       "      <th>0</th>\n",
       "      <th>1</th>\n",
       "    </tr>\n",
       "  </thead>\n",
       "  <tbody>\n",
       "    <tr>\n",
       "      <th>0</th>\n",
       "      <td>tweet_index</td>\n",
       "      <td>tweet</td>\n",
       "    </tr>\n",
       "    <tr>\n",
       "      <th>1</th>\n",
       "      <td>2049781431</td>\n",
       "      <td>@Koppite4004 I always get over-excited when th...</td>\n",
       "    </tr>\n",
       "    <tr>\n",
       "      <th>2</th>\n",
       "      <td>2186813755</td>\n",
       "      <td>Working on tonight's post</td>\n",
       "    </tr>\n",
       "    <tr>\n",
       "      <th>3</th>\n",
       "      <td>2251415926</td>\n",
       "      <td>Gonna try n fall back 2 sleep! Dream of my &amp;qu...</td>\n",
       "    </tr>\n",
       "    <tr>\n",
       "      <th>4</th>\n",
       "      <td>2247456751</td>\n",
       "      <td>@danishmarie I remember watching him since ......</td>\n",
       "    </tr>\n",
       "  </tbody>\n",
       "</table>\n",
       "</div>"
      ],
      "text/plain": [
       "             0                                                  1\n",
       "0  tweet_index                                              tweet\n",
       "1   2049781431  @Koppite4004 I always get over-excited when th...\n",
       "2   2186813755                         Working on tonight's post \n",
       "3   2251415926  Gonna try n fall back 2 sleep! Dream of my &qu...\n",
       "4   2247456751  @danishmarie I remember watching him since ......"
      ]
     },
     "execution_count": 10,
     "metadata": {},
     "output_type": "execute_result"
    }
   ],
   "source": [
    "\n",
    "X2_val.head()"
   ]
  },
  {
   "cell_type": "code",
   "execution_count": 11,
   "metadata": {
    "id": "JGiC4xbhf4Kp"
   },
   "outputs": [],
   "source": [
    "from nltk.tokenize import word_tokenize\n",
    "X2_train['tokenized'] = X2_train[1].apply(lambda x: word_tokenize(x))\n",
    "X2_val['tokenized'] = X2_val[1].apply(lambda x: word_tokenize(x))\n",
    "X2_test['tokenized'] = X2_test[1].apply(lambda x: word_tokenize(x))\n",
    "\n",
    "X2_train.to_csv('X2_train_tokenized.cvs')\n",
    "X2_val.to_csv('X2_val_tokenized.cvs')\n",
    "X2_test.to_csv('X2_test_tokenized.cvs')"
   ]
  },
  {
   "cell_type": "code",
   "execution_count": 12,
   "metadata": {
    "id": "1LkKQenOf4Kp"
   },
   "outputs": [],
   "source": [
    "from nltk.corpus import stopwords\n",
    "X2_train['filtered_words'] = X2_train['tokenized'].apply(lambda x: [word for word in x if word not in stopwords.words('english')])\n",
    "X2_val['filtered_words'] = X2_val['tokenized'].apply(lambda x: [word for word in x if word not in stopwords.words('english')])\n",
    "X2_test['filtered_words'] = X2_test['tokenized'].apply(lambda x: [word for word in x if word not in stopwords.words('english')])\n",
    "\n",
    "X2_train.to_csv('X2_train_filtered_words.cvs')\n",
    "X2_val.to_csv('X2_val_filtered_words.cvs')\n",
    "X2_test.to_csv('X2_test_filtered_words.cvs')\n"
   ]
  },
  {
   "cell_type": "code",
   "execution_count": 13,
   "metadata": {
    "id": "KDjUNRBBf4Kq"
   },
   "outputs": [
    {
     "name": "stderr",
     "output_type": "stream",
     "text": [
      "C:\\Users\\Winston\\Anaconda3\\lib\\site-packages\\IPython\\core\\interactiveshell.py:3444: FutureWarning: The error_bad_lines argument has been deprecated and will be removed in a future version.\n",
      "\n",
      "\n",
      "  exec(code_obj, self.user_global_ns, self.user_ns)\n"
     ]
    }
   ],
   "source": [
    "import pandas as pd\n",
    "X2_train['new_words'] = X2_train['filtered_words'].apply(lambda x: [word for word in x if word.isalnum()])\n",
    "X2_val['new_words'] = X2_val['filtered_words'].apply(lambda x: [word for word in x if word.isalnum()])\n",
    "X2_test['new_words'] = X2_test['filtered_words'].apply(lambda x: [word for word in x if word.isalnum()])\n",
    "\n",
    "X2_train.to_csv('X2_train_new_words.cvs')\n",
    "X2_val.to_csv('X2_val_new_words.cvs')\n",
    "X2_test.to_csv('X2_test_new_words.cvs')\n",
    "\n",
    "X2_train = pd.read_csv('X2_train_new_words.cvs',sep=',',header=None,engine='python',error_bad_lines=False)\n",
    "X2_val = pd.read_csv('X2_val_new_words.cvs',sep=',',header=None,engine='python',error_bad_lines=False)\n",
    "X2_test = pd.read_csv('X2_test_new_words.cvs',sep=',',header=None,engine='python',error_bad_lines=False)\n"
   ]
  },
  {
   "cell_type": "code",
   "execution_count": 14,
   "metadata": {},
   "outputs": [],
   "source": [
    "X2_train.columns = X2_train.iloc[0] \n",
    "X2_train = X2_train[1:]\n",
    "\n",
    "\n",
    "X2_val.columns = X2_val.iloc[0] \n",
    "X2_val = X2_val[1:]\n",
    "\n",
    "X2_test.columns = X2_test.iloc[0] \n",
    "X2_test = X2_test[1:]\n"
   ]
  },
  {
   "cell_type": "code",
   "execution_count": 15,
   "metadata": {},
   "outputs": [
    {
     "data": {
      "text/html": [
       "<div>\n",
       "<style scoped>\n",
       "    .dataframe tbody tr th:only-of-type {\n",
       "        vertical-align: middle;\n",
       "    }\n",
       "\n",
       "    .dataframe tbody tr th {\n",
       "        vertical-align: top;\n",
       "    }\n",
       "\n",
       "    .dataframe thead th {\n",
       "        text-align: right;\n",
       "    }\n",
       "</style>\n",
       "<table border=\"1\" class=\"dataframe\">\n",
       "  <thead>\n",
       "    <tr style=\"text-align: right;\">\n",
       "      <th></th>\n",
       "      <th>a</th>\n",
       "      <th>tweet_index</th>\n",
       "      <th>tweet</th>\n",
       "      <th>tokenized</th>\n",
       "      <th>filtered_words</th>\n",
       "      <th>new_words</th>\n",
       "    </tr>\n",
       "  </thead>\n",
       "  <tbody>\n",
       "    <tr>\n",
       "      <th>1</th>\n",
       "      <td>0.0</td>\n",
       "      <td>tweet_index</td>\n",
       "      <td>tweet</td>\n",
       "      <td>['tweet']</td>\n",
       "      <td>['tweet']</td>\n",
       "      <td>['tweet']</td>\n",
       "    </tr>\n",
       "    <tr>\n",
       "      <th>2</th>\n",
       "      <td>1.0</td>\n",
       "      <td>1994530242</td>\n",
       "      <td>@bwatwood i'm at the university of central flo...</td>\n",
       "      <td>['@', 'bwatwood', 'i', \"'m\", 'at', 'the', 'uni...</td>\n",
       "      <td>['@', 'bwatwood', \"'m\", 'university', 'central...</td>\n",
       "      <td>['bwatwood', 'university', 'central', 'florida...</td>\n",
       "    </tr>\n",
       "    <tr>\n",
       "      <th>3</th>\n",
       "      <td>2.0</td>\n",
       "      <td>1975024899</td>\n",
       "      <td>@LouiseGeek LOL he is class thought cool as Ow...</td>\n",
       "      <td>['@', 'LouiseGeek', 'LOL', 'he', 'is', 'class'...</td>\n",
       "      <td>['@', 'LouiseGeek', 'LOL', 'class', 'thought',...</td>\n",
       "      <td>['LouiseGeek', 'LOL', 'class', 'thought', 'coo...</td>\n",
       "    </tr>\n",
       "    <tr>\n",
       "      <th>4</th>\n",
       "      <td>3.0</td>\n",
       "      <td>2180684802</td>\n",
       "      <td>@MissChriis saad  i miss you too i'm bored as ...</td>\n",
       "      <td>['@', 'MissChriis', 'saad', 'i', 'miss', 'you'...</td>\n",
       "      <td>['@', 'MissChriis', 'saad', 'miss', \"'m\", 'bor...</td>\n",
       "      <td>['MissChriis', 'saad', 'miss', 'bored', 'hell'...</td>\n",
       "    </tr>\n",
       "    <tr>\n",
       "      <th>5</th>\n",
       "      <td>4.0</td>\n",
       "      <td>1684965598</td>\n",
       "      <td>@KarmaElite @dreamsneverend Yeah, but the girl...</td>\n",
       "      <td>['@', 'KarmaElite', '@', 'dreamsneverend', 'Ye...</td>\n",
       "      <td>['@', 'KarmaElite', '@', 'dreamsneverend', 'Ye...</td>\n",
       "      <td>['KarmaElite', 'dreamsneverend', 'Yeah', 'girl...</td>\n",
       "    </tr>\n",
       "    <tr>\n",
       "      <th>...</th>\n",
       "      <td>...</td>\n",
       "      <td>...</td>\n",
       "      <td>...</td>\n",
       "      <td>...</td>\n",
       "      <td>...</td>\n",
       "      <td>...</td>\n",
       "    </tr>\n",
       "    <tr>\n",
       "      <th>262019</th>\n",
       "      <td>262018.0</td>\n",
       "      <td>1965770450</td>\n",
       "      <td>@furina1975 Nice! I like it</td>\n",
       "      <td>['@', 'furina1975', 'Nice', '!', 'I', 'like', ...</td>\n",
       "      <td>['@', 'furina1975', 'Nice', '!', 'I', 'like']</td>\n",
       "      <td>['furina1975', 'Nice', 'I', 'like']</td>\n",
       "    </tr>\n",
       "    <tr>\n",
       "      <th>262020</th>\n",
       "      <td>262019.0</td>\n",
       "      <td>1989790543</td>\n",
       "      <td>@JustHendo exactly. Its sad. Her kids r gonna ...</td>\n",
       "      <td>['@', 'JustHendo', 'exactly', '.', 'Its', 'sad...</td>\n",
       "      <td>['@', 'JustHendo', 'exactly', '.', 'Its', 'sad...</td>\n",
       "      <td>['JustHendo', 'exactly', 'Its', 'sad', 'Her', ...</td>\n",
       "    </tr>\n",
       "    <tr>\n",
       "      <th>262021</th>\n",
       "      <td>262020.0</td>\n",
       "      <td>1966748540</td>\n",
       "      <td>Looks like I'm not going to the forgive durden...</td>\n",
       "      <td>['Looks', 'like', 'I', \"'m\", 'not', 'going', '...</td>\n",
       "      <td>['Looks', 'like', 'I', \"'m\", 'going', 'forgive...</td>\n",
       "      <td>['Looks', 'like', 'I', 'going', 'forgive', 'du...</td>\n",
       "    </tr>\n",
       "    <tr>\n",
       "      <th>262022</th>\n",
       "      <td>262021.0</td>\n",
       "      <td>1469845049</td>\n",
       "      <td>@jennygirl7 No need to beg...I don't want to h...</td>\n",
       "      <td>['@', 'jennygirl7', 'No', 'need', 'to', 'beg',...</td>\n",
       "      <td>['@', 'jennygirl7', 'No', 'need', 'beg', '...'...</td>\n",
       "      <td>['jennygirl7', 'No', 'need', 'beg', 'I', 'want...</td>\n",
       "    </tr>\n",
       "    <tr>\n",
       "      <th>262023</th>\n",
       "      <td>262022.0</td>\n",
       "      <td>1971751758</td>\n",
       "      <td>@gibleh i was at the m&amp;amp;m taping you did a ...</td>\n",
       "      <td>['@', 'gibleh', 'i', 'was', 'at', 'the', 'm', ...</td>\n",
       "      <td>['@', 'gibleh', '&amp;', 'amp', ';', 'taping', 'go...</td>\n",
       "      <td>['gibleh', 'amp', 'taping', 'good', 'job', 'in...</td>\n",
       "    </tr>\n",
       "  </tbody>\n",
       "</table>\n",
       "<p>262023 rows × 6 columns</p>\n",
       "</div>"
      ],
      "text/plain": [
       "               a  tweet_index  \\\n",
       "1            0.0  tweet_index   \n",
       "2            1.0   1994530242   \n",
       "3            2.0   1975024899   \n",
       "4            3.0   2180684802   \n",
       "5            4.0   1684965598   \n",
       "...          ...          ...   \n",
       "262019  262018.0   1965770450   \n",
       "262020  262019.0   1989790543   \n",
       "262021  262020.0   1966748540   \n",
       "262022  262021.0   1469845049   \n",
       "262023  262022.0   1971751758   \n",
       "\n",
       "                                                    tweet  \\\n",
       "1                                                   tweet   \n",
       "2       @bwatwood i'm at the university of central flo...   \n",
       "3       @LouiseGeek LOL he is class thought cool as Ow...   \n",
       "4       @MissChriis saad  i miss you too i'm bored as ...   \n",
       "5       @KarmaElite @dreamsneverend Yeah, but the girl...   \n",
       "...                                                   ...   \n",
       "262019                       @furina1975 Nice! I like it    \n",
       "262020  @JustHendo exactly. Its sad. Her kids r gonna ...   \n",
       "262021  Looks like I'm not going to the forgive durden...   \n",
       "262022  @jennygirl7 No need to beg...I don't want to h...   \n",
       "262023  @gibleh i was at the m&amp;m taping you did a ...   \n",
       "\n",
       "                                                tokenized  \\\n",
       "1                                               ['tweet']   \n",
       "2       ['@', 'bwatwood', 'i', \"'m\", 'at', 'the', 'uni...   \n",
       "3       ['@', 'LouiseGeek', 'LOL', 'he', 'is', 'class'...   \n",
       "4       ['@', 'MissChriis', 'saad', 'i', 'miss', 'you'...   \n",
       "5       ['@', 'KarmaElite', '@', 'dreamsneverend', 'Ye...   \n",
       "...                                                   ...   \n",
       "262019  ['@', 'furina1975', 'Nice', '!', 'I', 'like', ...   \n",
       "262020  ['@', 'JustHendo', 'exactly', '.', 'Its', 'sad...   \n",
       "262021  ['Looks', 'like', 'I', \"'m\", 'not', 'going', '...   \n",
       "262022  ['@', 'jennygirl7', 'No', 'need', 'to', 'beg',...   \n",
       "262023  ['@', 'gibleh', 'i', 'was', 'at', 'the', 'm', ...   \n",
       "\n",
       "                                           filtered_words  \\\n",
       "1                                               ['tweet']   \n",
       "2       ['@', 'bwatwood', \"'m\", 'university', 'central...   \n",
       "3       ['@', 'LouiseGeek', 'LOL', 'class', 'thought',...   \n",
       "4       ['@', 'MissChriis', 'saad', 'miss', \"'m\", 'bor...   \n",
       "5       ['@', 'KarmaElite', '@', 'dreamsneverend', 'Ye...   \n",
       "...                                                   ...   \n",
       "262019      ['@', 'furina1975', 'Nice', '!', 'I', 'like']   \n",
       "262020  ['@', 'JustHendo', 'exactly', '.', 'Its', 'sad...   \n",
       "262021  ['Looks', 'like', 'I', \"'m\", 'going', 'forgive...   \n",
       "262022  ['@', 'jennygirl7', 'No', 'need', 'beg', '...'...   \n",
       "262023  ['@', 'gibleh', '&', 'amp', ';', 'taping', 'go...   \n",
       "\n",
       "                                                new_words  \n",
       "1                                               ['tweet']  \n",
       "2       ['bwatwood', 'university', 'central', 'florida...  \n",
       "3       ['LouiseGeek', 'LOL', 'class', 'thought', 'coo...  \n",
       "4       ['MissChriis', 'saad', 'miss', 'bored', 'hell'...  \n",
       "5       ['KarmaElite', 'dreamsneverend', 'Yeah', 'girl...  \n",
       "...                                                   ...  \n",
       "262019                ['furina1975', 'Nice', 'I', 'like']  \n",
       "262020  ['JustHendo', 'exactly', 'Its', 'sad', 'Her', ...  \n",
       "262021  ['Looks', 'like', 'I', 'going', 'forgive', 'du...  \n",
       "262022  ['jennygirl7', 'No', 'need', 'beg', 'I', 'want...  \n",
       "262023  ['gibleh', 'amp', 'taping', 'good', 'job', 'in...  \n",
       "\n",
       "[262023 rows x 6 columns]"
      ]
     },
     "execution_count": 15,
     "metadata": {},
     "output_type": "execute_result"
    }
   ],
   "source": [
    "X2_train.set_axis(['a', 'tweet_index','tweet','tokenized','filtered_words','new_words'], axis=1, inplace=False)\n",
    "X2_val.set_axis(['a', 'tweet_index','tweet','tokenized','filtered_words','new_words'], axis=1, inplace=False)\n",
    "X2_test.set_axis(['a', 'tweet_index','tweet','tokenized','filtered_words','new_words'], axis=1, inplace=False)"
   ]
  },
  {
   "cell_type": "code",
   "execution_count": 16,
   "metadata": {
    "id": "bTG8LHv8f4Kq",
    "outputId": "197aa75a-672f-4739-dd2a-43afd11a8b1b"
   },
   "outputs": [
    {
     "data": {
      "text/html": [
       "<div>\n",
       "<style scoped>\n",
       "    .dataframe tbody tr th:only-of-type {\n",
       "        vertical-align: middle;\n",
       "    }\n",
       "\n",
       "    .dataframe tbody tr th {\n",
       "        vertical-align: top;\n",
       "    }\n",
       "\n",
       "    .dataframe thead th {\n",
       "        text-align: right;\n",
       "    }\n",
       "</style>\n",
       "<table border=\"1\" class=\"dataframe\">\n",
       "  <thead>\n",
       "    <tr style=\"text-align: right;\">\n",
       "      <th></th>\n",
       "      <th>NaN</th>\n",
       "      <th>0</th>\n",
       "      <th>1</th>\n",
       "      <th>tokenized</th>\n",
       "      <th>filtered_words</th>\n",
       "      <th>new_words</th>\n",
       "    </tr>\n",
       "  </thead>\n",
       "  <tbody>\n",
       "    <tr>\n",
       "      <th>1</th>\n",
       "      <td>0.0</td>\n",
       "      <td>tweet_index</td>\n",
       "      <td>tweet</td>\n",
       "      <td>['tweet']</td>\n",
       "      <td>['tweet']</td>\n",
       "      <td>['tweet']</td>\n",
       "    </tr>\n",
       "    <tr>\n",
       "      <th>2</th>\n",
       "      <td>1.0</td>\n",
       "      <td>2048594990</td>\n",
       "      <td>@mantic59 Cool link, but you got an extra T in...</td>\n",
       "      <td>['@', 'mantic59', 'Cool', 'link', ',', 'but', ...</td>\n",
       "      <td>['@', 'mantic59', 'Cool', 'link', ',', 'got', ...</td>\n",
       "      <td>['mantic59', 'Cool', 'link', 'got', 'extra', '...</td>\n",
       "    </tr>\n",
       "    <tr>\n",
       "      <th>3</th>\n",
       "      <td>2.0</td>\n",
       "      <td>1826490984</td>\n",
       "      <td>@miizluna_jessie tell your mommy i said hiiiii!</td>\n",
       "      <td>['@', 'miizluna_jessie', 'tell', 'your', 'momm...</td>\n",
       "      <td>['@', 'miizluna_jessie', 'tell', 'mommy', 'sai...</td>\n",
       "      <td>['tell', 'mommy', 'said', 'hiiiii']</td>\n",
       "    </tr>\n",
       "    <tr>\n",
       "      <th>4</th>\n",
       "      <td>3.0</td>\n",
       "      <td>2014223469</td>\n",
       "      <td>Ten o'clock coffee</td>\n",
       "      <td>['Ten', \"o'clock\", 'coffee']</td>\n",
       "      <td>['Ten', \"o'clock\", 'coffee']</td>\n",
       "      <td>['Ten', 'coffee']</td>\n",
       "    </tr>\n",
       "    <tr>\n",
       "      <th>5</th>\n",
       "      <td>4.0</td>\n",
       "      <td>2068667671</td>\n",
       "      <td>ive had some food now i have the sneezies  lol</td>\n",
       "      <td>['ive', 'had', 'some', 'food', 'now', 'i', 'ha...</td>\n",
       "      <td>['ive', 'food', 'sneezies', 'lol']</td>\n",
       "      <td>['ive', 'food', 'sneezies', 'lol']</td>\n",
       "    </tr>\n",
       "  </tbody>\n",
       "</table>\n",
       "</div>"
      ],
      "text/plain": [
       "0  NaN            0                                                  1  \\\n",
       "1  0.0  tweet_index                                              tweet   \n",
       "2  1.0   2048594990  @mantic59 Cool link, but you got an extra T in...   \n",
       "3  2.0   1826490984   @miizluna_jessie tell your mommy i said hiiiii!    \n",
       "4  3.0   2014223469                                Ten o'clock coffee    \n",
       "5  4.0   2068667671     ive had some food now i have the sneezies  lol   \n",
       "\n",
       "0                                          tokenized  \\\n",
       "1                                          ['tweet']   \n",
       "2  ['@', 'mantic59', 'Cool', 'link', ',', 'but', ...   \n",
       "3  ['@', 'miizluna_jessie', 'tell', 'your', 'momm...   \n",
       "4                       ['Ten', \"o'clock\", 'coffee']   \n",
       "5  ['ive', 'had', 'some', 'food', 'now', 'i', 'ha...   \n",
       "\n",
       "0                                     filtered_words  \\\n",
       "1                                          ['tweet']   \n",
       "2  ['@', 'mantic59', 'Cool', 'link', ',', 'got', ...   \n",
       "3  ['@', 'miizluna_jessie', 'tell', 'mommy', 'sai...   \n",
       "4                       ['Ten', \"o'clock\", 'coffee']   \n",
       "5                 ['ive', 'food', 'sneezies', 'lol']   \n",
       "\n",
       "0                                          new_words  \n",
       "1                                          ['tweet']  \n",
       "2  ['mantic59', 'Cool', 'link', 'got', 'extra', '...  \n",
       "3                ['tell', 'mommy', 'said', 'hiiiii']  \n",
       "4                                  ['Ten', 'coffee']  \n",
       "5                 ['ive', 'food', 'sneezies', 'lol']  "
      ]
     },
     "execution_count": 16,
     "metadata": {},
     "output_type": "execute_result"
    }
   ],
   "source": [
    "X2_train.head()"
   ]
  },
  {
   "cell_type": "code",
   "execution_count": 17,
   "metadata": {
    "id": "6XqrS0V-f4Kq"
   },
   "outputs": [],
   "source": [
    "from sklearn.model_selection import train_test_split\n",
    "train_data = X2_train\n",
    "rem_data = X2_train.drop(train_data.index).reset_index(drop=True)\n",
    "val_data = X2_val\n",
    "test_data = X2_test\n",
    "\n",
    "# train_data = data_set.sample(frac=0.8, random_state=25).reset_index(drop=True)\n",
    "# rem_data = data_set.drop(train_data.index).reset_index(drop=True)\n",
    "# val_data = rem_data.sample(frac=0.5, random_state=25).reset_index(drop=True)\n",
    "# test_data = rem_data.drop(val_data.index).reset_index(drop=True)"
   ]
  },
  {
   "cell_type": "code",
   "execution_count": 18,
   "metadata": {
    "id": "IwOiF6i_f4Kr"
   },
   "outputs": [],
   "source": [
    "train_data = train_data.drop(['tokenized'], axis = 1)\n",
    "train_data = train_data.drop(['filtered_words'], axis = 1)\n",
    "test_data = test_data.drop(['tokenized'], axis = 1)\n",
    "test_data = test_data.drop(['filtered_words'], axis = 1)\n",
    "val_data = val_data.drop(['tokenized'], axis = 1)\n",
    "val_data = val_data.drop(['filtered_words'], axis = 1)"
   ]
  },
  {
   "cell_type": "code",
   "execution_count": 19,
   "metadata": {
    "id": "dnKb-Q_-f4Kr",
    "outputId": "3a8bc358-bd2e-470c-960a-ed5d4684cc2e"
   },
   "outputs": [
    {
     "name": "stdout",
     "output_type": "stream",
     "text": [
      "(917074, 4)\n"
     ]
    },
    {
     "data": {
      "text/html": [
       "<div>\n",
       "<style scoped>\n",
       "    .dataframe tbody tr th:only-of-type {\n",
       "        vertical-align: middle;\n",
       "    }\n",
       "\n",
       "    .dataframe tbody tr th {\n",
       "        vertical-align: top;\n",
       "    }\n",
       "\n",
       "    .dataframe thead th {\n",
       "        text-align: right;\n",
       "    }\n",
       "</style>\n",
       "<table border=\"1\" class=\"dataframe\">\n",
       "  <thead>\n",
       "    <tr style=\"text-align: right;\">\n",
       "      <th></th>\n",
       "      <th>NaN</th>\n",
       "      <th>0</th>\n",
       "      <th>1</th>\n",
       "      <th>new_words</th>\n",
       "    </tr>\n",
       "  </thead>\n",
       "  <tbody>\n",
       "    <tr>\n",
       "      <th>1</th>\n",
       "      <td>0.0</td>\n",
       "      <td>tweet_index</td>\n",
       "      <td>tweet</td>\n",
       "      <td>['tweet']</td>\n",
       "    </tr>\n",
       "    <tr>\n",
       "      <th>2</th>\n",
       "      <td>1.0</td>\n",
       "      <td>2048594990</td>\n",
       "      <td>@mantic59 Cool link, but you got an extra T in...</td>\n",
       "      <td>['mantic59', 'Cool', 'link', 'got', 'extra', '...</td>\n",
       "    </tr>\n",
       "    <tr>\n",
       "      <th>3</th>\n",
       "      <td>2.0</td>\n",
       "      <td>1826490984</td>\n",
       "      <td>@miizluna_jessie tell your mommy i said hiiiii!</td>\n",
       "      <td>['tell', 'mommy', 'said', 'hiiiii']</td>\n",
       "    </tr>\n",
       "    <tr>\n",
       "      <th>4</th>\n",
       "      <td>3.0</td>\n",
       "      <td>2014223469</td>\n",
       "      <td>Ten o'clock coffee</td>\n",
       "      <td>['Ten', 'coffee']</td>\n",
       "    </tr>\n",
       "    <tr>\n",
       "      <th>5</th>\n",
       "      <td>4.0</td>\n",
       "      <td>2068667671</td>\n",
       "      <td>ive had some food now i have the sneezies  lol</td>\n",
       "      <td>['ive', 'food', 'sneezies', 'lol']</td>\n",
       "    </tr>\n",
       "  </tbody>\n",
       "</table>\n",
       "</div>"
      ],
      "text/plain": [
       "0  NaN            0                                                  1  \\\n",
       "1  0.0  tweet_index                                              tweet   \n",
       "2  1.0   2048594990  @mantic59 Cool link, but you got an extra T in...   \n",
       "3  2.0   1826490984   @miizluna_jessie tell your mommy i said hiiiii!    \n",
       "4  3.0   2014223469                                Ten o'clock coffee    \n",
       "5  4.0   2068667671     ive had some food now i have the sneezies  lol   \n",
       "\n",
       "0                                          new_words  \n",
       "1                                          ['tweet']  \n",
       "2  ['mantic59', 'Cool', 'link', 'got', 'extra', '...  \n",
       "3                ['tell', 'mommy', 'said', 'hiiiii']  \n",
       "4                                  ['Ten', 'coffee']  \n",
       "5                 ['ive', 'food', 'sneezies', 'lol']  "
      ]
     },
     "execution_count": 19,
     "metadata": {},
     "output_type": "execute_result"
    }
   ],
   "source": [
    "print(train_data.shape)\n",
    "train_data.head()"
   ]
  },
  {
   "cell_type": "code",
   "execution_count": 20,
   "metadata": {
    "id": "6R9UTf8Sf4Kr",
    "outputId": "5ea508fb-7020-4c5e-cceb-5a73e8deb21d"
   },
   "outputs": [
    {
     "name": "stdout",
     "output_type": "stream",
     "text": [
      "(131012, 4)\n"
     ]
    },
    {
     "data": {
      "text/html": [
       "<div>\n",
       "<style scoped>\n",
       "    .dataframe tbody tr th:only-of-type {\n",
       "        vertical-align: middle;\n",
       "    }\n",
       "\n",
       "    .dataframe tbody tr th {\n",
       "        vertical-align: top;\n",
       "    }\n",
       "\n",
       "    .dataframe thead th {\n",
       "        text-align: right;\n",
       "    }\n",
       "</style>\n",
       "<table border=\"1\" class=\"dataframe\">\n",
       "  <thead>\n",
       "    <tr style=\"text-align: right;\">\n",
       "      <th></th>\n",
       "      <th>NaN</th>\n",
       "      <th>0</th>\n",
       "      <th>1</th>\n",
       "      <th>new_words</th>\n",
       "    </tr>\n",
       "  </thead>\n",
       "  <tbody>\n",
       "    <tr>\n",
       "      <th>1</th>\n",
       "      <td>0.0</td>\n",
       "      <td>tweet_index</td>\n",
       "      <td>tweet</td>\n",
       "      <td>['tweet']</td>\n",
       "    </tr>\n",
       "    <tr>\n",
       "      <th>2</th>\n",
       "      <td>1.0</td>\n",
       "      <td>2049781431</td>\n",
       "      <td>@Koppite4004 I always get over-excited when th...</td>\n",
       "      <td>['Koppite4004', 'I', 'always', 'get', 'fixture...</td>\n",
       "    </tr>\n",
       "    <tr>\n",
       "      <th>3</th>\n",
       "      <td>2.0</td>\n",
       "      <td>2186813755</td>\n",
       "      <td>Working on tonight's post</td>\n",
       "      <td>['Working', 'tonight', 'post']</td>\n",
       "    </tr>\n",
       "    <tr>\n",
       "      <th>4</th>\n",
       "      <td>3.0</td>\n",
       "      <td>2251415926</td>\n",
       "      <td>Gonna try n fall back 2 sleep! Dream of my &amp;qu...</td>\n",
       "      <td>['Gon', 'na', 'try', 'n', 'fall', 'back', '2',...</td>\n",
       "    </tr>\n",
       "    <tr>\n",
       "      <th>5</th>\n",
       "      <td>4.0</td>\n",
       "      <td>2247456751</td>\n",
       "      <td>@danishmarie I remember watching him since ......</td>\n",
       "      <td>['danishmarie', 'I', 'remember', 'watching', '...</td>\n",
       "    </tr>\n",
       "  </tbody>\n",
       "</table>\n",
       "</div>"
      ],
      "text/plain": [
       "0  NaN            0                                                  1  \\\n",
       "1  0.0  tweet_index                                              tweet   \n",
       "2  1.0   2049781431  @Koppite4004 I always get over-excited when th...   \n",
       "3  2.0   2186813755                         Working on tonight's post    \n",
       "4  3.0   2251415926  Gonna try n fall back 2 sleep! Dream of my &qu...   \n",
       "5  4.0   2247456751  @danishmarie I remember watching him since ......   \n",
       "\n",
       "0                                          new_words  \n",
       "1                                          ['tweet']  \n",
       "2  ['Koppite4004', 'I', 'always', 'get', 'fixture...  \n",
       "3                     ['Working', 'tonight', 'post']  \n",
       "4  ['Gon', 'na', 'try', 'n', 'fall', 'back', '2',...  \n",
       "5  ['danishmarie', 'I', 'remember', 'watching', '...  "
      ]
     },
     "execution_count": 20,
     "metadata": {},
     "output_type": "execute_result"
    }
   ],
   "source": [
    "print(val_data.shape)\n",
    "val_data.head()"
   ]
  },
  {
   "cell_type": "code",
   "execution_count": 21,
   "metadata": {
    "id": "yWfWRSX9f4Ks",
    "outputId": "0a217777-3a2e-4e4c-fd7b-d147d70e4667"
   },
   "outputs": [
    {
     "name": "stdout",
     "output_type": "stream",
     "text": [
      "(262023, 4)\n"
     ]
    },
    {
     "data": {
      "text/html": [
       "<div>\n",
       "<style scoped>\n",
       "    .dataframe tbody tr th:only-of-type {\n",
       "        vertical-align: middle;\n",
       "    }\n",
       "\n",
       "    .dataframe tbody tr th {\n",
       "        vertical-align: top;\n",
       "    }\n",
       "\n",
       "    .dataframe thead th {\n",
       "        text-align: right;\n",
       "    }\n",
       "</style>\n",
       "<table border=\"1\" class=\"dataframe\">\n",
       "  <thead>\n",
       "    <tr style=\"text-align: right;\">\n",
       "      <th></th>\n",
       "      <th>NaN</th>\n",
       "      <th>0</th>\n",
       "      <th>1</th>\n",
       "      <th>new_words</th>\n",
       "    </tr>\n",
       "  </thead>\n",
       "  <tbody>\n",
       "    <tr>\n",
       "      <th>1</th>\n",
       "      <td>0.0</td>\n",
       "      <td>tweet_index</td>\n",
       "      <td>tweet</td>\n",
       "      <td>['tweet']</td>\n",
       "    </tr>\n",
       "    <tr>\n",
       "      <th>2</th>\n",
       "      <td>1.0</td>\n",
       "      <td>1994530242</td>\n",
       "      <td>@bwatwood i'm at the university of central flo...</td>\n",
       "      <td>['bwatwood', 'university', 'central', 'florida...</td>\n",
       "    </tr>\n",
       "    <tr>\n",
       "      <th>3</th>\n",
       "      <td>2.0</td>\n",
       "      <td>1975024899</td>\n",
       "      <td>@LouiseGeek LOL he is class thought cool as Ow...</td>\n",
       "      <td>['LouiseGeek', 'LOL', 'class', 'thought', 'coo...</td>\n",
       "    </tr>\n",
       "    <tr>\n",
       "      <th>4</th>\n",
       "      <td>3.0</td>\n",
       "      <td>2180684802</td>\n",
       "      <td>@MissChriis saad  i miss you too i'm bored as ...</td>\n",
       "      <td>['MissChriis', 'saad', 'miss', 'bored', 'hell'...</td>\n",
       "    </tr>\n",
       "    <tr>\n",
       "      <th>5</th>\n",
       "      <td>4.0</td>\n",
       "      <td>1684965598</td>\n",
       "      <td>@KarmaElite @dreamsneverend Yeah, but the girl...</td>\n",
       "      <td>['KarmaElite', 'dreamsneverend', 'Yeah', 'girl...</td>\n",
       "    </tr>\n",
       "  </tbody>\n",
       "</table>\n",
       "</div>"
      ],
      "text/plain": [
       "0  NaN            0                                                  1  \\\n",
       "1  0.0  tweet_index                                              tweet   \n",
       "2  1.0   1994530242  @bwatwood i'm at the university of central flo...   \n",
       "3  2.0   1975024899  @LouiseGeek LOL he is class thought cool as Ow...   \n",
       "4  3.0   2180684802  @MissChriis saad  i miss you too i'm bored as ...   \n",
       "5  4.0   1684965598  @KarmaElite @dreamsneverend Yeah, but the girl...   \n",
       "\n",
       "0                                          new_words  \n",
       "1                                          ['tweet']  \n",
       "2  ['bwatwood', 'university', 'central', 'florida...  \n",
       "3  ['LouiseGeek', 'LOL', 'class', 'thought', 'coo...  \n",
       "4  ['MissChriis', 'saad', 'miss', 'bored', 'hell'...  \n",
       "5  ['KarmaElite', 'dreamsneverend', 'Yeah', 'girl...  "
      ]
     },
     "execution_count": 21,
     "metadata": {},
     "output_type": "execute_result"
    }
   ],
   "source": [
    "print(test_data.shape)\n",
    "test_data.head()"
   ]
  },
  {
   "cell_type": "markdown",
   "metadata": {
    "id": "y5NFyjHwf4Ks"
   },
   "source": [
    "## 2. Logistic Regression\n",
    "Below, try out LR with/without regression on spam filtering. Which model gives you best validation error? What role does regularization play here? Which regularizer works best? Which of these models are more interpretable? And how can you see that? Are any of the issues you saw with Naive Bayes method resolved with LR? What are any limitations you see with your LR model?"
   ]
  },
  {
   "cell_type": "code",
   "execution_count": 22,
   "metadata": {},
   "outputs": [
    {
     "name": "stdout",
     "output_type": "stream",
     "text": [
      "0  NaN            0                                                  1  \\\n",
      "1  0.0  tweet_index                                              tweet   \n",
      "2  1.0   2048594990  @mantic59 Cool link, but you got an extra T in...   \n",
      "3  2.0   1826490984   @miizluna_jessie tell your mommy i said hiiiii!    \n",
      "4  3.0   2014223469                                Ten o'clock coffee    \n",
      "5  4.0   2068667671     ive had some food now i have the sneezies  lol   \n",
      "\n",
      "0                                          tokenized  \\\n",
      "1                                          ['tweet']   \n",
      "2  ['@', 'mantic59', 'Cool', 'link', ',', 'but', ...   \n",
      "3  ['@', 'miizluna_jessie', 'tell', 'your', 'momm...   \n",
      "4                       ['Ten', \"o'clock\", 'coffee']   \n",
      "5  ['ive', 'had', 'some', 'food', 'now', 'i', 'ha...   \n",
      "\n",
      "0                                     filtered_words  \\\n",
      "1                                          ['tweet']   \n",
      "2  ['@', 'mantic59', 'Cool', 'link', ',', 'got', ...   \n",
      "3  ['@', 'miizluna_jessie', 'tell', 'mommy', 'sai...   \n",
      "4                       ['Ten', \"o'clock\", 'coffee']   \n",
      "5                 ['ive', 'food', 'sneezies', 'lol']   \n",
      "\n",
      "0                                          new_words  \n",
      "1                                          ['tweet']  \n",
      "2  ['mantic59', 'Cool', 'link', 'got', 'extra', '...  \n",
      "3                ['tell', 'mommy', 'said', 'hiiiii']  \n",
      "4                                  ['Ten', 'coffee']  \n",
      "5                 ['ive', 'food', 'sneezies', 'lol']  \n"
     ]
    }
   ],
   "source": [
    "print(X2_train.head())"
   ]
  },
  {
   "cell_type": "code",
   "execution_count": 25,
   "metadata": {
    "id": "HwIHx8_Uf4Ks"
   },
   "outputs": [],
   "source": [
    "# Your code here for LR with and without regularization \n",
    "# including obtaining validation errors.\n",
    "from sklearn.linear_model import LogisticRegression\n",
    "from sklearn.feature_extraction.text import CountVectorizer\n",
    "from sklearn.metrics import accuracy_score, precision_score, recall_score\n",
    "from sklearn.model_selection import cross_val_score\n",
    "import matplotlib.pyplot as plt\n",
    "from sklearn.metrics import plot_confusion_matrix\n",
    "from sklearn.metrics import f1_score\n",
    "\n",
    "y_train = y2_train[1]\n",
    "y_test = y2_test[1]\n",
    "y_val = y2_val[1]\n",
    "\n",
    "cv = CountVectorizer(binary=False, max_df=0.95) \n",
    "cv.fit(train_data['1']) # To get a dictionary\n",
    "train_feature_set = cv.transform(train_data['1'])\n",
    "test_feature_set = cv.transform(test_data['1'])\n",
    "val_feature_set = cv.transform(val_data['1'])\n",
    "\n",
    "def LR():\n",
    "    clf = LogisticRegression(solver='saga')\n",
    "    clf.fit(train_feature_set, y_train)\n",
    "\n",
    "    pred = clf.predict(val_feature_set)\n",
    "    print('Results of LR')\n",
    "    print('Accuracy: ', accuracy_score(y_val, pred))\n",
    "    print('Precision: ', precision_score(y_val, pred, average='micro'))\n",
    "    print('Recall: ', recall_score(y_val, pred, average='micro'))\n",
    "    print('f1 score: ',f1_score(y_val, pred, average='micro'))\n",
    "    \n",
    "    print('aaaa')\n",
    "    df1 = pd.DataFrame(X2_val)\n",
    "    df1['Prediction'] = pred\n",
    "    df1 = df1.set_axis(['a', 'b','c','d','e','f','Prediction'], axis=1, inplace=False)\n",
    "    #print(df)\n",
    "    header = [\"b\", \"Prediction\"]\n",
    "    df1.to_csv('LRout.csv', columns = header, header=False,index=False)\n",
    "    plot_confusion_matrix(clf, val_feature_set, y_val)  \n",
    "    plt.show()\n",
    "    print('aaaa')\n",
    "\n",
    "def LR_Regularized():\n",
    "    clf = LogisticRegression(solver='liblinear', penalty = 'l1')\n",
    "    clf.fit(train_feature_set, y_train)\n",
    "\n",
    "    pred = clf.predict(val_feature_set)\n",
    "    \n",
    "    print('Results of LR_Regularized')\n",
    "    print('Accuracy: ', accuracy_score(y_val, pred))\n",
    "    print('Precision: ', precision_score(y_val, pred, average='micro'))\n",
    "    print('Recall: ', recall_score(y_val, pred, average='micro'))\n",
    "    print('f1 score: ',f1_score(y_val, pred, average='micro'))\n",
    "    \n",
    "    print('aaaa')\n",
    "    df2 = pd.DataFrame(X2_val)\n",
    "    df2['Prediction'] = pred\n",
    "    df2 = df2.set_axis(['a', 'b','c','d','e','f','Prediction'], axis=1, inplace=False)\n",
    "    #print(df)\n",
    "    header = [\"b\", \"Prediction\"]\n",
    "    df2.to_csv('LR_Reg_out.csv', columns = header, header=False,index=False)\n",
    "    plot_confusion_matrix(clf, val_feature_set, y_val)  \n",
    "    plt.show()\n",
    "    print('aaaa')\n",
    "\n",
    "def LR_best_hyperparam():\n",
    "    clf = LogisticRegression(solver='liblinear', penalty = 'l2')\n",
    "    clf.fit(train_feature_set, y_train)\n",
    "\n",
    "    pred = clf.predict(val_feature_set)\n",
    "    \n",
    "    print('Results of LR_best_hyperparam')\n",
    "    print('Accuracy: ', accuracy_score(y_val, pred))\n",
    "    print('Precision: ', precision_score(y_val, pred, average='micro'))\n",
    "    print('Recall: ', recall_score(y_val, pred, average='micro'))\n",
    "    print('f1 score: ',f1_score(y_val, pred, average='micro'))\n",
    "    \n",
    "    print('aaaa')\n",
    "    df3 = pd.DataFrame(X2_val)\n",
    "    df3['Prediction'] = pred\n",
    "    df3 = df3.set_axis(['a', 'b','c','d','e','f','Prediction'], axis=1, inplace=False)\n",
    "    #print(df)\n",
    "    header = [\"b\", \"Prediction\"]\n",
    "    df3.to_csv('LR_best_hyper_out.csv', columns = header, header=False,index=False)\n",
    "    plot_confusion_matrix(clf, val_feature_set, y_val)  \n",
    "    plt.show()\n",
    "    print('aaaa')"
   ]
  },
  {
   "cell_type": "code",
   "execution_count": 26,
   "metadata": {
    "id": "uFvUkUOWf4Kt",
    "outputId": "45eb9027-078c-4df1-f6ad-6d52d273fdea"
   },
   "outputs": [
    {
     "name": "stderr",
     "output_type": "stream",
     "text": [
      "C:\\Users\\Winston\\Anaconda3\\lib\\site-packages\\sklearn\\linear_model\\_sag.py:354: ConvergenceWarning: The max_iter was reached which means the coef_ did not converge\n",
      "  ConvergenceWarning,\n"
     ]
    },
    {
     "name": "stdout",
     "output_type": "stream",
     "text": [
      "Results of LR\n",
      "Accuracy:  0.7970872897139193\n",
      "Precision:  0.7970872897139193\n",
      "Recall:  0.7970872897139193\n",
      "f1 score:  0.7970872897139194\n",
      "aaaa\n"
     ]
    },
    {
     "name": "stderr",
     "output_type": "stream",
     "text": [
      "C:\\Users\\Winston\\Anaconda3\\lib\\site-packages\\sklearn\\utils\\deprecation.py:87: FutureWarning: Function plot_confusion_matrix is deprecated; Function `plot_confusion_matrix` is deprecated in 1.0 and will be removed in 1.2. Use one of the class methods: ConfusionMatrixDisplay.from_predictions or ConfusionMatrixDisplay.from_estimator.\n",
      "  warnings.warn(msg, category=FutureWarning)\n"
     ]
    },
    {
     "data": {
      "image/png": "[encoded data removed]",
      "text/plain": [
       "<Figure size 432x288 with 2 Axes>"
      ]
     },
     "metadata": {
      "needs_background": "light"
     },
     "output_type": "display_data"
    },
    {
     "name": "stdout",
     "output_type": "stream",
     "text": [
      "aaaa\n"
     ]
    }
   ],
   "source": [
    "LR()"
   ]
  },
  {
   "cell_type": "code",
   "execution_count": 27,
   "metadata": {
    "id": "BLXvBlRof4Kt",
    "outputId": "a7421842-cbde-4326-c955-e7211c75aa9d"
   },
   "outputs": [
    {
     "name": "stdout",
     "output_type": "stream",
     "text": [
      "Results of LR_Regularized\n",
      "Accuracy:  0.7965987848441364\n",
      "Precision:  0.7965987848441364\n",
      "Recall:  0.7965987848441364\n",
      "f1 score:  0.7965987848441364\n",
      "aaaa\n"
     ]
    },
    {
     "name": "stderr",
     "output_type": "stream",
     "text": [
      "C:\\Users\\Winston\\Anaconda3\\lib\\site-packages\\sklearn\\utils\\deprecation.py:87: FutureWarning: Function plot_confusion_matrix is deprecated; Function `plot_confusion_matrix` is deprecated in 1.0 and will be removed in 1.2. Use one of the class methods: ConfusionMatrixDisplay.from_predictions or ConfusionMatrixDisplay.from_estimator.\n",
      "  warnings.warn(msg, category=FutureWarning)\n"
     ]
    },
    {
     "data": {
      "image/png": "[encoded data removed]",
      "text/plain": [
       "<Figure size 432x288 with 2 Axes>"
      ]
     },
     "metadata": {
      "needs_background": "light"
     },
     "output_type": "display_data"
    },
    {
     "name": "stdout",
     "output_type": "stream",
     "text": [
      "aaaa\n"
     ]
    }
   ],
   "source": [
    "LR_Regularized()"
   ]
  },
  {
   "cell_type": "code",
   "execution_count": 28,
   "metadata": {
    "id": "zREyQoF0f4Ku",
    "outputId": "57d8ac67-3d48-4b6d-fcd5-6089896c70ee"
   },
   "outputs": [
    {
     "name": "stdout",
     "output_type": "stream",
     "text": [
      "Results of LR_best_hyperparam\n",
      "Accuracy:  0.7965835190669557\n",
      "Precision:  0.7965835190669557\n",
      "Recall:  0.7965835190669557\n",
      "f1 score:  0.7965835190669557\n",
      "aaaa\n"
     ]
    },
    {
     "name": "stderr",
     "output_type": "stream",
     "text": [
      "C:\\Users\\Winston\\Anaconda3\\lib\\site-packages\\sklearn\\utils\\deprecation.py:87: FutureWarning: Function plot_confusion_matrix is deprecated; Function `plot_confusion_matrix` is deprecated in 1.0 and will be removed in 1.2. Use one of the class methods: ConfusionMatrixDisplay.from_predictions or ConfusionMatrixDisplay.from_estimator.\n",
      "  warnings.warn(msg, category=FutureWarning)\n"
     ]
    },
    {
     "data": {
      "image/png": "[encoded data removed]",
      "text/plain": [
       "<Figure size 432x288 with 2 Axes>"
      ]
     },
     "metadata": {
      "needs_background": "light"
     },
     "output_type": "display_data"
    },
    {
     "name": "stdout",
     "output_type": "stream",
     "text": [
      "aaaa\n"
     ]
    }
   ],
   "source": [
    "LR_best_hyperparam()"
   ]
  },
  {
   "cell_type": "markdown",
   "metadata": {
    "id": "qrNtTl9sf4Ku"
   },
   "source": [
    "## 3. Decision Tree\n",
    "Train a DT on the same data set. Let depth of the tree be a hyper-param. Which depth gives you the best validation error? What are the top 20 features as per the DT? How do they compare to the top 20 features from LR?"
   ]
  },
  {
   "cell_type": "code",
   "execution_count": 29,
   "metadata": {
    "id": "s0z4IlBxf4Ku"
   },
   "outputs": [],
   "source": [
    "# Your code here for DT\n",
    "from sklearn.tree import DecisionTreeClassifier\n",
    "import matplotlib.pyplot as plt\n",
    "from sklearn.metrics import plot_confusion_matrix\n",
    "from sklearn.metrics import f1_score\n",
    "\n",
    "def DT():\n",
    "    clf = DecisionTreeClassifier()\n",
    "    clf.fit(train_feature_set, y_train)\n",
    "    pred = clf.predict(val_feature_set)\n",
    "    \n",
    "    print('Results of DT')\n",
    "    print('Accuracy: ', accuracy_score(y_val, pred))\n",
    "    print('Precision: ', precision_score(y_val, pred, average='micro'))\n",
    "    print('Recall: ', recall_score(y_val, pred, average='micro'))\n",
    "    print('f1 score: ',f1_score(y_val, pred, average='micro'))\n",
    "    \n",
    "    print('aaaa')\n",
    "    df4 = pd.DataFrame(X2_val)\n",
    "    df4['Prediction'] = pred\n",
    "    df4 = df4.set_axis(['a', 'b','c','d','e','f','Prediction'], axis=1, inplace=False)\n",
    "    #print(df)\n",
    "    header = [\"b\", \"Prediction\"]\n",
    "    df4.to_csv('DT_out.csv', columns = header, header=False,index=False)\n",
    "    plot_confusion_matrix(clf, val_feature_set, y_val)  \n",
    "    plt.show()\n",
    "    print('aaaa')\n",
    "    \n",
    "def DT_best_tree_depth():\n",
    "    clf = DecisionTreeClassifier(max_depth=60)\n",
    "    clf.fit(train_feature_set, y_train)\n",
    "    pred = clf.predict(val_feature_set)\n",
    "    \n",
    "    print('Results of DT_best_tree_depth')\n",
    "    print('Accuracy: ', accuracy_score(y_val, pred))\n",
    "    print('Precision: ', precision_score(y_val, pred, average='micro'))\n",
    "    print('Recall: ', recall_score(y_val, pred, average='micro'))\n",
    "    print('f1 score: ',f1_score(y_val, pred, average='micro'))\n",
    "    \n",
    "    print('aaaa')\n",
    "    df5 = pd.DataFrame(X2_val)\n",
    "    df5['Prediction'] = pred\n",
    "    df5 = df5.set_axis(['a', 'b','c','d','e','f','Prediction'], axis=1, inplace=False)\n",
    "    #print(df)\n",
    "    header = [\"b\", \"Prediction\"]\n",
    "    df5.to_csv('DT_best_tree_depth_out.csv', columns = header, header=False,index=False)\n",
    "    plot_confusion_matrix(clf, val_feature_set, y_val)  \n",
    "    plt.show()\n",
    "    print('aaaa')"
   ]
  },
  {
   "cell_type": "code",
   "execution_count": 30,
   "metadata": {
    "id": "-CmkstKxf4Kv",
    "outputId": "22d421bf-682d-4e2b-e42f-af6aea200838"
   },
   "outputs": [
    {
     "name": "stdout",
     "output_type": "stream",
     "text": [
      "Results of DT\n",
      "Accuracy:  0.7301621225536592\n",
      "Precision:  0.7301621225536592\n",
      "Recall:  0.7301621225536592\n",
      "f1 score:  0.7301621225536591\n",
      "aaaa\n"
     ]
    },
    {
     "name": "stderr",
     "output_type": "stream",
     "text": [
      "C:\\Users\\Winston\\Anaconda3\\lib\\site-packages\\sklearn\\utils\\deprecation.py:87: FutureWarning: Function plot_confusion_matrix is deprecated; Function `plot_confusion_matrix` is deprecated in 1.0 and will be removed in 1.2. Use one of the class methods: ConfusionMatrixDisplay.from_predictions or ConfusionMatrixDisplay.from_estimator.\n",
      "  warnings.warn(msg, category=FutureWarning)\n"
     ]
    },
    {
     "data": {
      "image/png": "[encoded data removed]",
      "text/plain": [
       "<Figure size 432x288 with 2 Axes>"
      ]
     },
     "metadata": {
      "needs_background": "light"
     },
     "output_type": "display_data"
    },
    {
     "name": "stdout",
     "output_type": "stream",
     "text": [
      "aaaa\n"
     ]
    }
   ],
   "source": [
    "DT()"
   ]
  },
  {
   "cell_type": "code",
   "execution_count": 31,
   "metadata": {
    "id": "6pKT1Om2f4Kv",
    "outputId": "bfb6473c-ff90-4629-afa8-d81b8139b813"
   },
   "outputs": [
    {
     "name": "stdout",
     "output_type": "stream",
     "text": [
      "Results of DT_best_tree_depth\n",
      "Accuracy:  0.7076679998778738\n",
      "Precision:  0.7076679998778738\n",
      "Recall:  0.7076679998778738\n",
      "f1 score:  0.7076679998778738\n",
      "aaaa\n"
     ]
    },
    {
     "name": "stderr",
     "output_type": "stream",
     "text": [
      "C:\\Users\\Winston\\Anaconda3\\lib\\site-packages\\sklearn\\utils\\deprecation.py:87: FutureWarning: Function plot_confusion_matrix is deprecated; Function `plot_confusion_matrix` is deprecated in 1.0 and will be removed in 1.2. Use one of the class methods: ConfusionMatrixDisplay.from_predictions or ConfusionMatrixDisplay.from_estimator.\n",
      "  warnings.warn(msg, category=FutureWarning)\n"
     ]
    },
    {
     "data": {
      "image/png": "[encoded data removed]",
      "text/plain": [
       "<Figure size 432x288 with 2 Axes>"
      ]
     },
     "metadata": {
      "needs_background": "light"
     },
     "output_type": "display_data"
    },
    {
     "name": "stdout",
     "output_type": "stream",
     "text": [
      "aaaa\n"
     ]
    }
   ],
   "source": [
    "DT_best_tree_depth()"
   ]
  },
  {
   "cell_type": "markdown",
   "metadata": {
    "id": "aNl34r34f4Kv"
   },
   "source": [
    "## 4. Random Forests\n",
    "To improve upon DTs you decide to implement a Random Forest. The hyper-params are number of DTs and depth per tree. How does the performance of Random Forest compare against the DT you trained earlier. How does the validation error compare? Also how do the precision/recall compare between DT and Random Forest on test set?"
   ]
  },
  {
   "cell_type": "code",
   "execution_count": 32,
   "metadata": {
    "id": "vFGokKcKf4Kw"
   },
   "outputs": [],
   "source": [
    "# Your code here for Random Forest\n",
    "from sklearn.ensemble import RandomForestClassifier\n",
    "import matplotlib.pyplot as plt\n",
    "from sklearn.metrics import plot_confusion_matrix\n",
    "from sklearn.metrics import f1_score\n",
    "\n",
    "def random_forest():\n",
    "    clf = RandomForestClassifier(max_depth = 1)\n",
    "    clf.fit(train_feature_set, y_train)\n",
    "    pred = clf.predict(val_feature_set)\n",
    "    \n",
    "    print('Results of Random Forest')\n",
    "    print('Accuracy: ', accuracy_score(y_val, pred))\n",
    "    print('Precision: ', precision_score(y_val, pred, average='micro'))\n",
    "    print('Recall: ', recall_score(y_val, pred, average='micro'))\n",
    "    print('f1 score: ',f1_score(y_val, pred, average='micro'))\n",
    "    \n",
    "    print('aaaa')\n",
    "    df6 = pd.DataFrame(X2_val)\n",
    "    df6['Prediction'] = pred\n",
    "    df6 = df6.set_axis(['a', 'b','c','d','e','f','Prediction'], axis=1, inplace=False)\n",
    "    #print(df)\n",
    "    header = [\"b\", \"Prediction\"]\n",
    "    df6.to_csv('random_forest_out.csv', columns = header, header=False,index=False)\n",
    "    plot_confusion_matrix(clf, val_feature_set, y_val)  \n",
    "    plt.show()\n",
    "    print('aaaa')\n",
    "    \n",
    "\n",
    "def random_forest_hyperparam_tuning():\n",
    "    clf = RandomForestClassifier(max_depth=10, random_state=42)\n",
    "    clf.fit(train_feature_set, y_train)\n",
    "    pred = clf.predict(val_feature_set)\n",
    "    \n",
    "    print('Results of Random Forest')\n",
    "    print('Accuracy: ', accuracy_score(y_val, pred))\n",
    "    print('Precision: ', precision_score(y_val, pred, average='micro'))\n",
    "    print('Recall: ', recall_score(y_val, pred, average='micro'))\n",
    "    print('f1 score: ',f1_score(y_val, pred, average='micro'))\n",
    "    \n",
    "    print('aaaa')\n",
    "    df7 = pd.DataFrame(X2_val)\n",
    "    df7['Prediction'] = pred\n",
    "    df7 = df7.set_axis(['a', 'b','c','d','e','f','Prediction'], axis=1, inplace=False)\n",
    "    #print(df)\n",
    "    header = [\"b\", \"Prediction\"]\n",
    "    df7.to_csv('random_forest_out.csv', columns = header, header=False,index=False)\n",
    "    plot_confusion_matrix(clf, val_feature_set, y_val)  \n",
    "    plt.show()\n",
    "    print('aaaa')\n",
    "\n",
    "\n",
    "    "
   ]
  },
  {
   "cell_type": "code",
   "execution_count": 33,
   "metadata": {
    "id": "FHChjb1vf4Kw",
    "outputId": "e4c8a06b-5b35-4780-aea9-3594b3528651"
   },
   "outputs": [
    {
     "name": "stdout",
     "output_type": "stream",
     "text": [
      "Results of Random Forest\n",
      "Accuracy:  0.5806719995114952\n",
      "Precision:  0.5806719995114952\n",
      "Recall:  0.5806719995114952\n",
      "f1 score:  0.5806719995114952\n",
      "aaaa\n"
     ]
    },
    {
     "name": "stderr",
     "output_type": "stream",
     "text": [
      "C:\\Users\\Winston\\Anaconda3\\lib\\site-packages\\sklearn\\utils\\deprecation.py:87: FutureWarning: Function plot_confusion_matrix is deprecated; Function `plot_confusion_matrix` is deprecated in 1.0 and will be removed in 1.2. Use one of the class methods: ConfusionMatrixDisplay.from_predictions or ConfusionMatrixDisplay.from_estimator.\n",
      "  warnings.warn(msg, category=FutureWarning)\n"
     ]
    },
    {
     "data": {
      "image/png": "[encoded data removed]",
      "text/plain": [
       "<Figure size 432x288 with 2 Axes>"
      ]
     },
     "metadata": {
      "needs_background": "light"
     },
     "output_type": "display_data"
    },
    {
     "name": "stdout",
     "output_type": "stream",
     "text": [
      "aaaa\n"
     ]
    }
   ],
   "source": [
    "random_forest()"
   ]
  },
  {
   "cell_type": "code",
   "execution_count": 34,
   "metadata": {
    "id": "rAf16VRqf4Kw",
    "outputId": "dc155885-3024-4183-9dc4-6b50b89f741d"
   },
   "outputs": [
    {
     "name": "stdout",
     "output_type": "stream",
     "text": [
      "Results of Random Forest\n",
      "Accuracy:  0.715132964919244\n",
      "Precision:  0.715132964919244\n",
      "Recall:  0.715132964919244\n",
      "f1 score:  0.715132964919244\n",
      "aaaa\n"
     ]
    },
    {
     "name": "stderr",
     "output_type": "stream",
     "text": [
      "C:\\Users\\Winston\\Anaconda3\\lib\\site-packages\\sklearn\\utils\\deprecation.py:87: FutureWarning: Function plot_confusion_matrix is deprecated; Function `plot_confusion_matrix` is deprecated in 1.0 and will be removed in 1.2. Use one of the class methods: ConfusionMatrixDisplay.from_predictions or ConfusionMatrixDisplay.from_estimator.\n",
      "  warnings.warn(msg, category=FutureWarning)\n"
     ]
    },
    {
     "data": {
      "image/png": "[encoded data removed]",
      "text/plain": [
       "<Figure size 432x288 with 2 Axes>"
      ]
     },
     "metadata": {
      "needs_background": "light"
     },
     "output_type": "display_data"
    },
    {
     "name": "stdout",
     "output_type": "stream",
     "text": [
      "aaaa\n"
     ]
    }
   ],
   "source": [
    "random_forest_hyperparam_tuning()"
   ]
  },
  {
   "cell_type": "code",
   "execution_count": null,
   "metadata": {
    "id": "avsgKc-Of4Kw",
    "outputId": "51c24a2e-e94f-43a0-82e2-378660b61ab9"
   },
   "outputs": [],
   "source": []
  },
  {
   "cell_type": "markdown",
   "metadata": {
    "id": "KrYw6z--f4Kw"
   },
   "source": [
    "## 5. Overall\n",
    "What are your insights from training these models? Which models are good at what? Which ML model would you use in practice for spam filtering?"
   ]
  },
  {
   "cell_type": "markdown",
   "metadata": {
    "id": "UqzjaIFlf4Kx"
   },
   "source": [
    "I would use Logistic Regression as they yield better results."
   ]
  },
  {
   "cell_type": "code",
   "execution_count": null,
   "metadata": {},
   "outputs": [],
   "source": []
  }
 ],
 "metadata": {
  "colab": {
   "name": "HW6_Part2_Solution.ipynb",
   "provenance": []
  },
  "kernelspec": {
   "display_name": "Python 3 (ipykernel)",
   "language": "python",
   "name": "python3"
  },
  "language_info": {
   "codemirror_mode": {
    "name": "ipython",
    "version": 3
   },
   "file_extension": ".py",
   "mimetype": "text/x-python",
   "name": "python",
   "nbconvert_exporter": "python",
   "pygments_lexer": "ipython3",
   "version": "3.7.3"
  }
 },
 "nbformat": 4,
 "nbformat_minor": 1
}
