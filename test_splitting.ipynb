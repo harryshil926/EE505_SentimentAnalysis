{
  "nbformat": 4,
  "nbformat_minor": 0,
  "metadata": {
    "colab": {
      "name": "test_splitting.ipynb",
      "provenance": []
    },
    "kernelspec": {
      "name": "python3",
      "display_name": "Python 3"
    },
    "language_info": {
      "name": "python"
    }
  },
  "cells": [
    {
      "cell_type": "code",
      "execution_count": null,
      "metadata": {
        "id": "eMLy_-QppzoH"
      },
      "outputs": [],
      "source": [
        "from google.colab import drive\n",
        "from google.colab.patches import cv2_imshow\n",
        "import pandas as pd\n",
        "from sklearn.model_selection import train_test_split"
      ]
    },
    {
      "cell_type": "code",
      "source": [
        "drive.mount('/content/gdrive')"
      ],
      "metadata": {
        "colab": {
          "base_uri": "https://localhost:8080/"
        },
        "id": "tJZEPpRep73I",
        "outputId": "cbb0e51d-c04a-4b4a-e456-3f4255776abc"
      },
      "execution_count": null,
      "outputs": [
        {
          "output_type": "stream",
          "name": "stdout",
          "text": [
            "Mounted at /content/gdrive\n"
          ]
        }
      ]
    },
    {
      "cell_type": "code",
      "source": [
        "df = pd.read_csv('/content/gdrive/MyDrive/EE_505/Dataset/twitter_sentiments_data.csv')"
      ],
      "metadata": {
        "id": "jg50geqep75w"
      },
      "execution_count": null,
      "outputs": []
    },
    {
      "cell_type": "code",
      "source": [
        "df.set_index('tweet_index',inplace=True)"
      ],
      "metadata": {
        "id": "CkYqTCvmp78I"
      },
      "execution_count": null,
      "outputs": []
    },
    {
      "cell_type": "code",
      "source": [
        "random_state = 1\n",
        "Y = df['target']\n",
        "X = df['tweet']"
      ],
      "metadata": {
        "id": "6Qf-hcrSp7-3"
      },
      "execution_count": null,
      "outputs": []
    },
    {
      "cell_type": "code",
      "source": [
        "# Separate out the test-set as hold-out (80:20)\n",
        "X_train, X_test, y_train, y_test = train_test_split(X, Y,stratify=Y, test_size=0.20,random_state=random_state)\n",
        "X1_train, X1_test, y1_train, y1_test = train_test_split(X, Y,stratify=Y, test_size=0.20,random_state=random_state)\n",
        "X1_train, X1_val, y1_train, y1_val = train_test_split(X1_train, y1_train,stratify=y1_train, test_size=0.125,random_state=random_state)"
      ],
      "metadata": {
        "id": "6QEGcnkxp8Bm"
      },
      "execution_count": null,
      "outputs": []
    },
    {
      "cell_type": "code",
      "source": [
        "X_train.to_csv('/content/gdrive/MyDrive/EE_505/Dataset/X_train.csv',index=True)\n",
        "X_test.to_csv('/content/gdrive/MyDrive/EE_505/Dataset/X_test.csv',index=True)\n",
        "y_train.to_csv('/content/gdrive/MyDrive/EE_505/Dataset/y_train.csv',index=True)\n",
        "y_test.to_csv('/content/gdrive/MyDrive/EE_505/Dataset/y_test.csv',index=True)\n",
        "\n",
        "X1_train.to_csv('/content/gdrive/MyDrive/EE_505/Dataset/X1_train.csv',index=True)\n",
        "X1_test.to_csv('/content/gdrive/MyDrive/EE_505/Dataset/X1_test.csv',index=True)\n",
        "X1_val.to_csv('/content/gdrive/MyDrive/EE_505/Dataset/X1_val.csv',index=True)\n",
        "y1_train.to_csv('/content/gdrive/MyDrive/EE_505/Dataset/y1_train.csv',index=True)\n",
        "y1_test.to_csv('/content/gdrive/MyDrive/EE_505/Dataset/y1_test.csv',index=True)\n",
        "y1_val.to_csv('/content/gdrive/MyDrive/EE_505/Dataset/y1_val.csv',index=True)"
      ],
      "metadata": {
        "id": "nJ-A3Pcbp8EG"
      },
      "execution_count": null,
      "outputs": []
    }
  ]
}